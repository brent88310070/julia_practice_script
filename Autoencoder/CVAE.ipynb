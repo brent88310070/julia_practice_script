{
 "cells": [
  {
   "cell_type": "code",
   "execution_count": 1,
   "id": "e24a1496-2c4d-464f-bbd2-293a40553aea",
   "metadata": {},
   "outputs": [],
   "source": [
    "using BSON\n",
    "using CUDA\n",
    "using DrWatson: struct2dict\n",
    "using Flux\n",
    "using Flux: @functor, chunk\n",
    "using Flux.Losses: logitbinarycrossentropy\n",
    "using Flux: onehotbatch, onecold, @epochs\n",
    "using Flux.Data: DataLoader\n",
    "using Images\n",
    "using Logging: with_logger\n",
    "using MLDatasets\n",
    "using Parameters: @with_kw\n",
    "using ProgressMeter: Progress, next!\n",
    "using TensorBoardLogger: TBLogger, tb_overwrite\n",
    "using Random"
   ]
  },
  {
   "cell_type": "code",
   "execution_count": 2,
   "id": "83bcfb40-625e-4c7e-9b87-a560055a6a9f",
   "metadata": {},
   "outputs": [
    {
     "data": {
      "text/plain": [
       "get_data (generic function with 1 method)"
      ]
     },
     "execution_count": 2,
     "metadata": {},
     "output_type": "execute_result"
    }
   ],
   "source": [
    "# load MNIST images and return loader\n",
    "function get_data(batch_size)\n",
    "    xtrain, ytrain = MLDatasets.MNIST.traindata(Float32)\n",
    "    \n",
    "     # Reshape Data in order to flatten each image into a linear array\n",
    "    xtrain = Flux.flatten(xtrain)\n",
    "\n",
    "    # One-hot-encode the labels\n",
    "    ytrain = onehotbatch(ytrain, 0:9)\n",
    "    \n",
    "    \n",
    "    DataLoader((xtrain, ytrain), batchsize=batch_size, shuffle=true)\n",
    "end"
   ]
  },
  {
   "cell_type": "code",
   "execution_count": 3,
   "id": "f8a2adbc-415b-42e1-83a4-6f36393faf6c",
   "metadata": {},
   "outputs": [],
   "source": [
    "struct Encoder\n",
    "    linear\n",
    "    μ\n",
    "    logσ\n",
    "end\n",
    "@functor Encoder\n",
    "    \n",
    "Encoder(input_dim::Int, latent_dim::Int, hidden_dim::Int) = Encoder(\n",
    "    Dense(input_dim, hidden_dim, tanh),   # linear\n",
    "    Dense(hidden_dim, latent_dim),        # μ\n",
    "    Dense(hidden_dim, latent_dim),        # logσ\n",
    ")\n",
    "\n",
    "function (encoder::Encoder)(x)\n",
    "    h = encoder.linear(x)\n",
    "    encoder.μ(h), encoder.logσ(h)\n",
    "end"
   ]
  },
  {
   "cell_type": "code",
   "execution_count": 4,
   "id": "36439e36-811d-4ab0-830e-0533c8071852",
   "metadata": {},
   "outputs": [
    {
     "data": {
      "text/plain": [
       "Decoder (generic function with 1 method)"
      ]
     },
     "execution_count": 4,
     "metadata": {},
     "output_type": "execute_result"
    }
   ],
   "source": [
    "Decoder(input_dim::Int, latent_dim::Int, hidden_dim::Int) = Chain(\n",
    "    Dense(latent_dim, hidden_dim, tanh),\n",
    "    Dense(hidden_dim, input_dim)\n",
    ")"
   ]
  },
  {
   "cell_type": "code",
   "execution_count": 5,
   "id": "beeae17f-ed67-4bdb-98ae-b16eb09ba1ed",
   "metadata": {},
   "outputs": [
    {
     "data": {
      "text/plain": [
       "reconstuct (generic function with 1 method)"
      ]
     },
     "execution_count": 5,
     "metadata": {},
     "output_type": "execute_result"
    }
   ],
   "source": [
    "function reconstuct(encoder, decoder, x, y, device)\n",
    "    x_encoder = vcat(x, y)\n",
    "    μ, logσ = encoder(x_encoder)\n",
    "    z = μ + device(randn(Float32, size(logσ))) .* exp.(logσ)\n",
    "    x_decoder = vcat(z, y)\n",
    "    μ, logσ, decoder(x_decoder)\n",
    "end"
   ]
  },
  {
   "cell_type": "code",
   "execution_count": 6,
   "id": "54c4644d-4e53-45ee-8367-199cbc4cee04",
   "metadata": {},
   "outputs": [
    {
     "data": {
      "text/plain": [
       "model_loss (generic function with 1 method)"
      ]
     },
     "execution_count": 6,
     "metadata": {},
     "output_type": "execute_result"
    }
   ],
   "source": [
    "function model_loss(encoder, decoder, λ, x, y, device)\n",
    "    \n",
    "    μ, logσ, decoder_z = reconstuct(encoder, decoder, x, y, device)\n",
    "    len = size(x)[end]\n",
    "    # KL-divergence\n",
    "    kl_q_p = 0.5f0 * sum(@. (exp(2f0 * logσ) + μ^2 -1f0 - 2f0 * logσ)) / len\n",
    "\n",
    "    logp_x_z = -logitbinarycrossentropy(decoder_z, x, agg=sum) / len\n",
    "    # regularization\n",
    "    reg = λ * sum(x->sum(x.^2), Flux.params(decoder))\n",
    "    \n",
    "    -logp_x_z + kl_q_p + reg\n",
    "end"
   ]
  },
  {
   "cell_type": "code",
   "execution_count": 7,
   "id": "550dfb2b-f806-4276-821b-95741cebfdc4",
   "metadata": {},
   "outputs": [
    {
     "data": {
      "text/plain": [
       "convert_to_image (generic function with 1 method)"
      ]
     },
     "execution_count": 7,
     "metadata": {},
     "output_type": "execute_result"
    }
   ],
   "source": [
    "function convert_to_image(x, y_size)\n",
    "    Gray.(permutedims(vcat(reshape.(chunk(x |> cpu, y_size), 28, :)...), (2, 1)))\n",
    "end"
   ]
  },
  {
   "cell_type": "code",
   "execution_count": 41,
   "id": "6b914d13-bc43-4ac7-9a98-0f8acc86f597",
   "metadata": {},
   "outputs": [
    {
     "data": {
      "text/plain": [
       "Args"
      ]
     },
     "execution_count": 41,
     "metadata": {},
     "output_type": "execute_result"
    }
   ],
   "source": [
    "# arguments for the `train` function \n",
    "@with_kw mutable struct Args\n",
    "    η = 1e-3                # learning rate\n",
    "    λ = 0.01f0              # regularization paramater\n",
    "    batch_size = 128        # batch size\n",
    "    sample_size = 10        # sampling size for output    \n",
    "    epochs = 80             # number of epochs\n",
    "    seed = 0                # random seed\n",
    "    cuda = true             # use GPU\n",
    "    input_dim = 28^2        # image size\n",
    "    latent_dim = 2          # latent dimension\n",
    "    hidden_dim = 500        # hidden dimension\n",
    "    verbose_freq = 10       # logging for every verbose_freq iterations\n",
    "    tblogger = false        # log training with tensorboard\n",
    "    save_path = \"output\"    # results path\n",
    "end"
   ]
  },
  {
   "cell_type": "code",
   "execution_count": 24,
   "id": "a671abfe-6104-4ef5-80a9-9ff4c9fb9eeb",
   "metadata": {},
   "outputs": [
    {
     "data": {
      "text/plain": [
       "train (generic function with 1 method)"
      ]
     },
     "execution_count": 24,
     "metadata": {},
     "output_type": "execute_result"
    }
   ],
   "source": [
    "function train(; kws...)\n",
    "    # load hyperparamters\n",
    "    args = Args(; kws...)\n",
    "    args.seed > 0 && Random.seed!(args.seed)\n",
    "\n",
    "    # GPU config\n",
    "    if args.cuda && CUDA.has_cuda()\n",
    "        device = gpu\n",
    "        @info \"Training on GPU\"\n",
    "    else\n",
    "        device = cpu\n",
    "        @info \"Training on CPU\"\n",
    "    end\n",
    "\n",
    "    # load MNIST images\n",
    "    loader = get_data(args.batch_size)\n",
    "    \n",
    "    # initialize encoder and decoder\n",
    "\n",
    "    encoder = Encoder(args.input_dim+10, args.latent_dim, args.hidden_dim) |> device\n",
    "    decoder = Decoder(args.input_dim, args.latent_dim+10, args.hidden_dim) |> device\n",
    "\n",
    "    # ADAM optimizer\n",
    "    opt = ADAM(args.η)\n",
    "    \n",
    "    # parameters\n",
    "    ps = Flux.params(encoder.linear, encoder.μ, encoder.logσ, decoder)\n",
    "\n",
    "    !ispath(args.save_path) && mkpath(args.save_path)\n",
    "\n",
    "    # logging by TensorBoard.jl\n",
    "    if args.tblogger\n",
    "        tblogger = TBLogger(args.save_path, tb_overwrite)\n",
    "    end\n",
    "\n",
    "    # fixed input\n",
    "    original, original_y = first(get_data(args.sample_size^2))\n",
    "    original = original |> device\n",
    "    image = convert_to_image(original, args.sample_size)\n",
    "    image_path = joinpath(args.save_path, \"original.png\")\n",
    "    save(image_path, image)\n",
    "\n",
    "    # training\n",
    "    train_steps = 0\n",
    "    @info \"Start Training, total $(args.epochs) epochs\"\n",
    "    for epoch = 1:args.epochs\n",
    "        @info \"Epoch $(epoch)\"\n",
    "        progress = Progress(length(loader))\n",
    "\n",
    "        for (x, y) in loader \n",
    "            loss, back = Flux.pullback(ps) do\n",
    "                model_loss(encoder, decoder, args.λ, x |> device, y |> device, device)\n",
    "            end\n",
    "            grad = back(1f0)\n",
    "            Flux.Optimise.update!(opt, ps, grad)\n",
    "            # progress meter\n",
    "            next!(progress; showvalues=[(:loss, loss)]) \n",
    "\n",
    "            # logging with TensorBoard\n",
    "            if args.tblogger && train_steps % args.verbose_freq == 0\n",
    "                with_logger(tblogger) do\n",
    "                    @info \"train\" loss=loss\n",
    "                end\n",
    "            end\n",
    "\n",
    "            train_steps += 1\n",
    "        end\n",
    "        # save image\n",
    "        _, _, rec_original = reconstuct(encoder, decoder, original, original_y, device)\n",
    "        rec_original = sigmoid.(rec_original)\n",
    "        image = convert_to_image(rec_original, args.sample_size)\n",
    "        image_path = joinpath(args.save_path, \"epoch_$(epoch).png\")\n",
    "        save(image_path, image)\n",
    "        @info \"Image saved: $(image_path)\"\n",
    "    end\n",
    "\n",
    "    # save model\n",
    "    model_path = joinpath(args.save_path, \"model.bson\") \n",
    "    let encoder = cpu(encoder), decoder = cpu(decoder), args=struct2dict(args)\n",
    "        BSON.@save model_path encoder decoder args\n",
    "        @info \"Model saved: $(model_path)\"\n",
    "    end\n",
    "    return decoder\n",
    "end"
   ]
  },
  {
   "cell_type": "code",
   "execution_count": 42,
   "id": "4b0f1b0a-0ff6-4ba4-b3a2-d56569ad5aa4",
   "metadata": {},
   "outputs": [
    {
     "name": "stderr",
     "output_type": "stream",
     "text": [
      "┌ Warning: ProgressMeter by default refresh meters with additional information in IJulia via `IJulia.clear_output`, which clears all outputs in the cell. \n",
      "│  - To prevent this behaviour, do `ProgressMeter.ijulia_behavior(:append)`. \n",
      "│  - To disable this warning message, do `ProgressMeter.ijulia_behavior(:clear)`.\n",
      "└ @ ProgressMeter C:\\Users\\user\\.julia\\packages\\ProgressMeter\\Vf8un\\src\\ProgressMeter.jl:620\n",
      "\u001b[32mProgress: 100%|█████████████████████████████████████████| Time: 0:00:09\u001b[39m\n",
      "\u001b[34m  loss:  163.73265\u001b[39m\n",
      "┌ Info: Image saved: output\\epoch_80.png\n",
      "└ @ Main In[24]:74\n",
      "┌ Info: Model saved: output\\model.bson\n",
      "└ @ Main In[24]:81\n"
     ]
    },
    {
     "data": {
      "text/plain": [
       "Chain(\n",
       "  Dense(12, 500, tanh),                 \u001b[90m# 6_500 parameters\u001b[39m\n",
       "  Dense(500, 784),                      \u001b[90m# 392_784 parameters\u001b[39m\n",
       ")\u001b[90m                   # Total: 4 arrays, \u001b[39m399_284 parameters, 448 bytes."
      ]
     },
     "execution_count": 42,
     "metadata": {},
     "output_type": "execute_result"
    }
   ],
   "source": [
    "decoder = train()"
   ]
  },
  {
   "cell_type": "code",
   "execution_count": 45,
   "id": "ea31255f-1c84-44de-9f5f-e2ef2717da7e",
   "metadata": {},
   "outputs": [
    {
     "data": {
      "text/plain": [
       "784×10 CuArray{Float32, 2, CUDA.Mem.DeviceBuffer}:\n",
       " -7.79902  -7.56589  -7.24152  -7.59908  …  -7.46114  -7.22245  -7.75029\n",
       " -7.79902  -7.56589  -7.24152  -7.59908     -7.46114  -7.22245  -7.75029\n",
       " -7.79902  -7.56589  -7.24152  -7.59908     -7.46114  -7.22245  -7.75029\n",
       " -7.79902  -7.56589  -7.24152  -7.59908     -7.46114  -7.22245  -7.75029\n",
       " -7.79902  -7.56589  -7.24152  -7.59908     -7.46114  -7.22245  -7.75029\n",
       " -7.79902  -7.56589  -7.24152  -7.59908  …  -7.46114  -7.22245  -7.75029\n",
       " -7.79902  -7.56589  -7.24152  -7.59908     -7.46114  -7.22245  -7.75029\n",
       " -7.79902  -7.56589  -7.24151  -7.59908     -7.46114  -7.22245  -7.75029\n",
       " -7.79902  -7.56589  -7.24152  -7.59908     -7.46114  -7.22245  -7.75029\n",
       " -7.79902  -7.56589  -7.24151  -7.59908     -7.46114  -7.22245  -7.75028\n",
       " -7.79902  -7.56589  -7.24152  -7.59908  …  -7.46114  -7.22245  -7.75029\n",
       " -7.79902  -7.56589  -7.24152  -7.59908     -7.46114  -7.22245  -7.75029\n",
       " -7.78478  -7.57004  -7.23049  -7.57948     -7.46446  -7.16838  -7.73162\n",
       "  ⋮                                      ⋱                      \n",
       " -7.66641  -6.97637  -5.88325  -7.70214     -7.56051  -6.85683  -7.69831\n",
       " -7.48195  -6.87467  -5.88158  -7.48628     -7.32715  -6.69224  -7.50272\n",
       " -7.83677  -7.49416  -6.86529  -7.69765     -7.59024  -7.12846  -7.80394\n",
       " -7.85079  -7.64041  -7.22427  -7.64618  …  -7.55923  -7.19351  -7.7943\n",
       " -7.77579  -7.59398  -7.21634  -7.55695     -7.47144  -7.14801  -7.71418\n",
       " -7.86591  -7.64169  -7.23128  -7.67093     -7.57274  -7.16505  -7.81417\n",
       " -7.81621  -7.60811  -7.23595  -7.61311     -7.51418  -7.14134  -7.76196\n",
       " -7.80343  -7.58592  -7.24582  -7.59859     -7.48229  -7.18926  -7.75074\n",
       " -7.79902  -7.56589  -7.24152  -7.59908  …  -7.46114  -7.22245  -7.75029\n",
       " -7.79902  -7.56589  -7.24152  -7.59908     -7.46114  -7.22245  -7.75029\n",
       " -7.79902  -7.56589  -7.24152  -7.59908     -7.46114  -7.22245  -7.75029\n",
       " -7.79902  -7.56589  -7.24152  -7.59908     -7.46114  -7.22245  -7.75029"
      ]
     },
     "execution_count": 45,
     "metadata": {},
     "output_type": "execute_result"
    }
   ],
   "source": [
    "z = randn(Float32, 2, 10)\n",
    "y = repeat([0, 1, 0, 0, 0, 0, 0, 0, 0, 0], 1, 10)\n",
    "x_decoder = vcat(z, y) |> gpu\n",
    "output = decoder(x_decoder)"
   ]
  },
  {
   "cell_type": "code",
   "execution_count": 46,
   "id": "5e937145-b327-4bcf-bcdc-25d23731a26e",
   "metadata": {},
   "outputs": [
    {
     "name": "stderr",
     "output_type": "stream",
     "text": [
      "┌ Info: Image saved: output\\1.png\n",
      "└ @ Main In[46]:5\n"
     ]
    }
   ],
   "source": [
    "rec_original = sigmoid.(output)\n",
    "image = convert_to_image(rec_original, 10)\n",
    "image_path = joinpath(\"output\", \"1.png\")\n",
    "save(image_path, image)\n",
    "@info \"Image saved: $(image_path)\""
   ]
  },
  {
   "cell_type": "code",
   "execution_count": null,
   "id": "d4ed89df-63ee-4da7-a6d6-237805c811d3",
   "metadata": {},
   "outputs": [],
   "source": []
  }
 ],
 "metadata": {
  "kernelspec": {
   "display_name": "Julia 1.6.3",
   "language": "julia",
   "name": "julia-1.6"
  },
  "language_info": {
   "file_extension": ".jl",
   "mimetype": "application/julia",
   "name": "julia",
   "version": "1.6.3"
  }
 },
 "nbformat": 4,
 "nbformat_minor": 5
}
