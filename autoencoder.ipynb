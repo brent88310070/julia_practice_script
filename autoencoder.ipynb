{
 "cells": [
  {
   "cell_type": "code",
   "execution_count": 173,
   "id": "6fb5de1d-858c-43e1-855a-feccbdd04c4c",
   "metadata": {},
   "outputs": [],
   "source": [
    "using Flux, Statistics\n",
    "using Flux.Data: DataLoader\n",
    "using Flux: onehotbatch, onecold, @epochs\n",
    "using Flux.Losses: mse\n",
    "using Base: @kwdef\n",
    "using CUDA\n",
    "using MLDatasets\n",
    "using Plots\n",
    "using Flux: chunk\n",
    "using Images"
   ]
  },
  {
   "cell_type": "code",
   "execution_count": 33,
   "id": "e0979add-d8e3-45da-9334-e3e8a8a330c6",
   "metadata": {},
   "outputs": [
    {
     "data": {
      "text/plain": [
       "getdata (generic function with 1 method)"
      ]
     },
     "execution_count": 33,
     "metadata": {},
     "output_type": "execute_result"
    }
   ],
   "source": [
    "function getdata(args, device)\n",
    "    ENV[\"DATADEPS_ALWAYS_ACCEPT\"] = \"true\"\n",
    "\n",
    "    # Loading Dataset\t\n",
    "    xtrain, ytrain = MLDatasets.MNIST.traindata(Float32)\n",
    "    xtest, ytest = MLDatasets.MNIST.testdata(Float32)\n",
    "\n",
    "    # Reshape Data in order to flatten each image into a linear array\n",
    "    xtrain = Flux.flatten(xtrain)\n",
    "    xtest = Flux.flatten(xtest)\n",
    "\n",
    "    # One-hot-encode the labels\n",
    "    ytrain, ytest = onehotbatch(ytrain, 0:9), onehotbatch(ytest, 0:9)\n",
    "\n",
    "    # Create DataLoaders (mini-batch iterators)\n",
    "    train_loader = DataLoader((xtrain, ytrain), batchsize=args.batchsize, shuffle=true)\n",
    "    test_loader = DataLoader((xtest, ytest), batchsize=args.batchsize)\n",
    "\n",
    "    return train_loader, test_loader\n",
    "end"
   ]
  },
  {
   "cell_type": "code",
   "execution_count": 16,
   "id": "3404beb9-ad43-4901-a099-6143f3b45dea",
   "metadata": {},
   "outputs": [
    {
     "data": {
      "text/plain": [
       "build_model (generic function with 1 method)"
      ]
     },
     "execution_count": 16,
     "metadata": {},
     "output_type": "execute_result"
    }
   ],
   "source": [
    "function build_model(; imgsize=(28,28,1), nclasses=10)\n",
    "    return Chain( Dense(prod(imgsize), 32, relu),\n",
    "                  Dense(32, nclasses, relu),\n",
    "                  Dense(nclasses, 32, relu),\n",
    "                  Dense(32, prod(imgsize)))\n",
    "end"
   ]
  },
  {
   "cell_type": "code",
   "execution_count": 127,
   "id": "38704d39-8de3-4f48-9fbf-d27bfd2744ce",
   "metadata": {},
   "outputs": [
    {
     "data": {
      "text/plain": [
       "SSE (generic function with 1 method)"
      ]
     },
     "execution_count": 127,
     "metadata": {},
     "output_type": "execute_result"
    }
   ],
   "source": [
    "function SSE(y::AbstractVector, ŷ::AbstractVector)\n",
    "    res =  y - ŷ\n",
    "    return res'*res\n",
    "end"
   ]
  },
  {
   "cell_type": "code",
   "execution_count": 112,
   "id": "ba52393d-a6c3-49f2-95f5-f5348126dbcd",
   "metadata": {},
   "outputs": [
    {
     "data": {
      "text/plain": [
       "SST (generic function with 1 method)"
      ]
     },
     "execution_count": 112,
     "metadata": {},
     "output_type": "execute_result"
    }
   ],
   "source": [
    "function SST(y::AbstractVector)\n",
    "    z =  y .- mean(y)\n",
    "    return z'*z\n",
    "end"
   ]
  },
  {
   "cell_type": "code",
   "execution_count": 154,
   "id": "93c8f2b0-d719-4c97-82fe-c0283d1ff2dc",
   "metadata": {},
   "outputs": [
    {
     "data": {
      "text/plain": [
       "SSE (generic function with 2 methods)"
      ]
     },
     "execution_count": 154,
     "metadata": {},
     "output_type": "execute_result"
    }
   ],
   "source": [
    "function SSE(Y::AbstractMatrix, Ŷ::AbstractMatrix)\n",
    "    return sum(abs2, (Y - Ŷ), dims=2)\n",
    "end"
   ]
  },
  {
   "cell_type": "code",
   "execution_count": 160,
   "id": "eddaa742-7bdf-4e04-9557-a0b8178c6416",
   "metadata": {},
   "outputs": [
    {
     "data": {
      "text/plain": [
       "SST (generic function with 2 methods)"
      ]
     },
     "execution_count": 160,
     "metadata": {},
     "output_type": "execute_result"
    }
   ],
   "source": [
    "function SST(Y::AbstractMatrix)\n",
    "    return sum(abs2, (Y .- mean(Y, dims=2)), dims=2)\n",
    "end"
   ]
  },
  {
   "cell_type": "code",
   "execution_count": 163,
   "id": "1b989136-e22d-4781-a4e3-71c8fcc16afb",
   "metadata": {},
   "outputs": [
    {
     "data": {
      "text/plain": [
       "R_square (generic function with 1 method)"
      ]
     },
     "execution_count": 163,
     "metadata": {},
     "output_type": "execute_result"
    }
   ],
   "source": [
    "function R_square(Y, Ŷ)\n",
    "    return 1 - sum(SSE(Y, Ŷ))/sum(SST(Y))\n",
    "end"
   ]
  },
  {
   "cell_type": "code",
   "execution_count": 165,
   "id": "7a7a5937-1d72-4898-96ad-8abe2279ce20",
   "metadata": {},
   "outputs": [
    {
     "data": {
      "text/plain": [
       "loss_Rsquare (generic function with 1 method)"
      ]
     },
     "execution_count": 165,
     "metadata": {},
     "output_type": "execute_result"
    }
   ],
   "source": [
    "function loss_Rsquare(data_loader, model, device)\n",
    "    ls = 0.0f0\n",
    "    num = 0\n",
    "    R_square_mean = 0\n",
    "    i = 0\n",
    "\n",
    "    for (x, y) in data_loader\n",
    "        x, y = device(x), device(y)\n",
    "        ŷ = model(x)\n",
    "        num +=  size(x)[end]\n",
    "        i +=1\n",
    "        R_square_mean += R_square(x, ŷ)\n",
    "        ls += mse(ŷ, x)\n",
    "    end\n",
    "    \n",
    "    \n",
    "    return ls / num, R_square_mean / i\n",
    "end"
   ]
  },
  {
   "cell_type": "code",
   "execution_count": 194,
   "id": "d732c8d8-f910-41e0-a8e1-f99cb6d4bae2",
   "metadata": {},
   "outputs": [
    {
     "data": {
      "text/plain": [
       "Args"
      ]
     },
     "execution_count": 194,
     "metadata": {},
     "output_type": "execute_result"
    }
   ],
   "source": [
    "@kwdef mutable struct Args\n",
    "    η::Float64 = 3e-4       # learning rate\n",
    "    batchsize::Int = 256    # batch size\n",
    "    epochs::Int = 50        # number of epochs\n",
    "    use_cuda::Bool = true   # use gpu (if cuda available)\n",
    "end"
   ]
  },
  {
   "cell_type": "code",
   "execution_count": 195,
   "id": "36c53bd9-212f-41c6-a28b-29caa9046d71",
   "metadata": {},
   "outputs": [
    {
     "data": {
      "text/plain": [
       "train (generic function with 1 method)"
      ]
     },
     "execution_count": 195,
     "metadata": {},
     "output_type": "execute_result"
    }
   ],
   "source": [
    "function train(; kws...)\n",
    "    args = Args(; kws...) # collect options in a struct for convenience\n",
    "\n",
    "    if CUDA.functional() && args.use_cuda\n",
    "        @info \"Training on CUDA GPU\"\n",
    "        CUDA.allowscalar(false)\n",
    "        device = gpu\n",
    "    else\n",
    "        @info \"Training on CPU\"\n",
    "        device = cpu\n",
    "    end\n",
    "\n",
    "    # Create test and train dataloaders\n",
    "    train_loader, test_loader = getdata(args, device)\n",
    "\n",
    "    # Construct model\n",
    "    model = build_model() |> device\n",
    "    ps = Flux.params(model) # model's trainable parameters\n",
    "    \n",
    "    ## Optimizer\n",
    "    opt = ADAM(args.η)\n",
    "    \n",
    "    ## Training\n",
    "    for epoch in 1:args.epochs\n",
    "        for (x, y) in train_loader\n",
    "            x, y = device(x), device(y) # transfer data to device\n",
    "            gs = gradient(() -> mse(model(x), x), ps) # compute gradient\n",
    "            Flux.Optimise.update!(opt, ps, gs) # update parameters\n",
    "        end\n",
    "        \n",
    "        # Report on train and test\n",
    "        train_loss, train_Rsquare = loss_Rsquare(train_loader, model, device)\n",
    "        test_loss, test_Rsquare = loss_Rsquare(test_loader, model, device)\n",
    "        println(\"Epoch=$epoch\")\n",
    "        println(\"  train_loss = $train_loss, train_Rsquare = $train_Rsquare\")\n",
    "        println(\"  test_loss = $test_loss, test_Rsquare = $test_Rsquare\")\n",
    "    end\n",
    "    \n",
    "    return model\n",
    "\n",
    "end"
   ]
  },
  {
   "cell_type": "code",
   "execution_count": 196,
   "id": "efed548c-8082-41c0-94c0-545aaa922e0e",
   "metadata": {},
   "outputs": [
    {
     "name": "stderr",
     "output_type": "stream",
     "text": [
      "┌ Info: Training on CUDA GPU\n",
      "└ @ Main In[195]:5\n"
     ]
    },
    {
     "name": "stdout",
     "output_type": "stream",
     "text": [
      "Epoch=1\n",
      "  train_loss = 0.0002121212, train_Rsquare = 0.19165361\n",
      "  test_loss = 0.00021660687, test_Rsquare = 0.17374384\n",
      "Epoch=2\n",
      "  train_loss = 0.00018134697, train_Rsquare = 0.30878085\n",
      "  test_loss = 0.00018462786, test_Rsquare = 0.29525033\n",
      "Epoch=3\n",
      "  train_loss = 0.00016226491, train_Rsquare = 0.3815792\n",
      "  test_loss = 0.00016406535, test_Rsquare = 0.37360066\n",
      "Epoch=4\n",
      "  train_loss = 0.0001553067, train_Rsquare = 0.40800172\n",
      "  test_loss = 0.00015690169, test_Rsquare = 0.40087444\n",
      "Epoch=5\n",
      "  train_loss = 0.00015151213, train_Rsquare = 0.4224719\n",
      "  test_loss = 0.00015330143, test_Rsquare = 0.4145648\n",
      "Epoch=6\n",
      "  train_loss = 0.00014872417, train_Rsquare = 0.43306705\n",
      "  test_loss = 0.00015046583, test_Rsquare = 0.425385\n",
      "Epoch=7\n",
      "  train_loss = 0.00014601917, train_Rsquare = 0.4433547\n",
      "  test_loss = 0.00014765424, test_Rsquare = 0.43610287\n",
      "Epoch=8\n",
      "  train_loss = 0.00014007243, train_Rsquare = 0.4661302\n",
      "  test_loss = 0.0001415969, test_Rsquare = 0.4592514\n",
      "Epoch=9\n",
      "  train_loss = 0.00013755429, train_Rsquare = 0.475664\n",
      "  test_loss = 0.0001391252, test_Rsquare = 0.46868676\n",
      "Epoch=10\n",
      "  train_loss = 0.00013595987, train_Rsquare = 0.48177567\n",
      "  test_loss = 0.00013741202, test_Rsquare = 0.47522074\n",
      "Epoch=11\n",
      "  train_loss = 0.00013480746, train_Rsquare = 0.4861965\n",
      "  test_loss = 0.00013628288, test_Rsquare = 0.4795279\n",
      "Epoch=12\n",
      "  train_loss = 0.00013397733, train_Rsquare = 0.48932505\n",
      "  test_loss = 0.0001354626, test_Rsquare = 0.48269486\n",
      "Epoch=13\n",
      "  train_loss = 0.00013317383, train_Rsquare = 0.49240008\n",
      "  test_loss = 0.00013461149, test_Rsquare = 0.4858963\n",
      "Epoch=14\n",
      "  train_loss = 0.00013254535, train_Rsquare = 0.49479276\n",
      "  test_loss = 0.00013398459, test_Rsquare = 0.48830122\n",
      "Epoch=15\n",
      "  train_loss = 0.00013181687, train_Rsquare = 0.49749526\n",
      "  test_loss = 0.00013324094, test_Rsquare = 0.49113417\n",
      "Epoch=16\n",
      "  train_loss = 0.000131362, train_Rsquare = 0.4993129\n",
      "  test_loss = 0.00013275574, test_Rsquare = 0.49299034\n",
      "Epoch=17\n",
      "  train_loss = 0.00013080184, train_Rsquare = 0.5013887\n",
      "  test_loss = 0.0001321338, test_Rsquare = 0.49533454\n",
      "Epoch=18\n",
      "  train_loss = 0.00013031081, train_Rsquare = 0.5032639\n",
      "  test_loss = 0.0001316408, test_Rsquare = 0.49720207\n",
      "Epoch=19\n",
      "  train_loss = 0.00012957626, train_Rsquare = 0.50615704\n",
      "  test_loss = 0.00013089376, test_Rsquare = 0.5001125\n",
      "Epoch=20\n",
      "  train_loss = 0.00012742133, train_Rsquare = 0.5144237\n",
      "  test_loss = 0.0001285962, test_Rsquare = 0.5087792\n",
      "Epoch=21\n",
      "  train_loss = 0.0001261993, train_Rsquare = 0.5190514\n",
      "  test_loss = 0.00012731047, test_Rsquare = 0.5137034\n",
      "Epoch=22\n",
      "  train_loss = 0.00012529102, train_Rsquare = 0.5223785\n",
      "  test_loss = 0.00012647056, test_Rsquare = 0.5169164\n",
      "Epoch=23\n",
      "  train_loss = 0.00012468196, train_Rsquare = 0.5248014\n",
      "  test_loss = 0.00012590954, test_Rsquare = 0.51903164\n",
      "Epoch=24\n",
      "  train_loss = 0.00012415067, train_Rsquare = 0.5267761\n",
      "  test_loss = 0.00012532611, test_Rsquare = 0.5212805\n",
      "Epoch=25\n",
      "  train_loss = 0.00012376832, train_Rsquare = 0.5282512\n",
      "  test_loss = 0.00012493807, test_Rsquare = 0.52277434\n",
      "Epoch=26\n",
      "  train_loss = 0.00012330759, train_Rsquare = 0.53010875\n",
      "  test_loss = 0.00012452395, test_Rsquare = 0.5243571\n",
      "Epoch=27\n",
      "  train_loss = 0.00012286958, train_Rsquare = 0.53161937\n",
      "  test_loss = 0.0001240664, test_Rsquare = 0.52612007\n",
      "Epoch=28\n",
      "  train_loss = 0.00012251841, train_Rsquare = 0.533001\n",
      "  test_loss = 0.00012371673, test_Rsquare = 0.5274333\n",
      "Epoch=29\n",
      "  train_loss = 0.00012206764, train_Rsquare = 0.5348089\n",
      "  test_loss = 0.00012332779, test_Rsquare = 0.52893275\n",
      "Epoch=30\n",
      "  train_loss = 0.00012110558, train_Rsquare = 0.53837216\n",
      "  test_loss = 0.00012231944, test_Rsquare = 0.53277814\n",
      "Epoch=31\n",
      "  train_loss = 0.00011979397, train_Rsquare = 0.5434553\n",
      "  test_loss = 0.000120993674, test_Rsquare = 0.5378268\n",
      "Epoch=32\n",
      "  train_loss = 0.00011879376, train_Rsquare = 0.54720384\n",
      "  test_loss = 0.00011994767, test_Rsquare = 0.5417855\n",
      "Epoch=33\n",
      "  train_loss = 0.000118052885, train_Rsquare = 0.550005\n",
      "  test_loss = 0.00011916259, test_Rsquare = 0.5447481\n",
      "Epoch=34\n",
      "  train_loss = 0.00011761281, train_Rsquare = 0.5516854\n",
      "  test_loss = 0.000118710326, test_Rsquare = 0.5464881\n",
      "Epoch=35\n",
      "  train_loss = 0.00011713827, train_Rsquare = 0.5534138\n",
      "  test_loss = 0.00011824852, test_Rsquare = 0.5482482\n",
      "Epoch=36\n",
      "  train_loss = 0.000116962736, train_Rsquare = 0.55416584\n",
      "  test_loss = 0.00011800562, test_Rsquare = 0.5492067\n",
      "Epoch=37\n",
      "  train_loss = 0.00011655165, train_Rsquare = 0.55578446\n",
      "  test_loss = 0.00011751149, test_Rsquare = 0.5510465\n",
      "Epoch=38\n",
      "  train_loss = 0.000116388095, train_Rsquare = 0.5563563\n",
      "  test_loss = 0.00011737913, test_Rsquare = 0.55155087\n",
      "Epoch=39\n",
      "  train_loss = 0.000116090196, train_Rsquare = 0.5575421\n",
      "  test_loss = 0.00011702434, test_Rsquare = 0.5529064\n",
      "Epoch=40\n",
      "  train_loss = 0.0001157738, train_Rsquare = 0.55866194\n",
      "  test_loss = 0.000116730225, test_Rsquare = 0.5540296\n",
      "Epoch=41\n",
      "  train_loss = 0.00011552347, train_Rsquare = 0.559682\n",
      "  test_loss = 0.00011647224, test_Rsquare = 0.5550056\n",
      "Epoch=42\n",
      "  train_loss = 0.00011531998, train_Rsquare = 0.56044304\n",
      "  test_loss = 0.00011624345, test_Rsquare = 0.5558775\n",
      "Epoch=43\n",
      "  train_loss = 0.0001151965, train_Rsquare = 0.56091946\n",
      "  test_loss = 0.00011613386, test_Rsquare = 0.5563093\n",
      "Epoch=44\n",
      "  train_loss = 0.00011497963, train_Rsquare = 0.56170857\n",
      "  test_loss = 0.00011590303, test_Rsquare = 0.5572039\n",
      "Epoch=45\n",
      "  train_loss = 0.00011478692, train_Rsquare = 0.56235826\n",
      "  test_loss = 0.00011564928, test_Rsquare = 0.55815667\n",
      "Epoch=46\n",
      "  train_loss = 0.00011458916, train_Rsquare = 0.56319666\n",
      "  test_loss = 0.00011545481, test_Rsquare = 0.5588987\n",
      "Epoch=47\n",
      "  train_loss = 0.000114516915, train_Rsquare = 0.56353295\n",
      "  test_loss = 0.00011534591, test_Rsquare = 0.5592858\n",
      "Epoch=48\n",
      "  train_loss = 0.00011417839, train_Rsquare = 0.56481\n",
      "  test_loss = 0.00011506486, test_Rsquare = 0.56038016\n",
      "Epoch=49\n",
      "  train_loss = 0.00011407721, train_Rsquare = 0.5651129\n",
      "  test_loss = 0.00011495757, test_Rsquare = 0.56078607\n",
      "Epoch=50\n",
      "  train_loss = 0.000113912865, train_Rsquare = 0.5657707\n",
      "  test_loss = 0.00011475722, test_Rsquare = 0.5615501\n"
     ]
    },
    {
     "data": {
      "text/plain": [
       "Chain(\n",
       "  Dense(784, 32, relu),                 \u001b[90m# 25_120 parameters\u001b[39m\n",
       "  Dense(32, 10, relu),                  \u001b[90m# 330 parameters\u001b[39m\n",
       "  Dense(10, 32, relu),                  \u001b[90m# 352 parameters\u001b[39m\n",
       "  Dense(32, 784),                       \u001b[90m# 25_872 parameters\u001b[39m\n",
       ")\u001b[90m                   # Total: 8 arrays, \u001b[39m51_674 parameters, 880 bytes."
      ]
     },
     "execution_count": 196,
     "metadata": {},
     "output_type": "execute_result"
    }
   ],
   "source": [
    "model = train()"
   ]
  },
  {
   "cell_type": "code",
   "execution_count": 192,
   "id": "fa363b2e-6037-4d81-8d21-d801b9e331d6",
   "metadata": {},
   "outputs": [
    {
     "data": {
      "text/plain": [
       "convert_to_image (generic function with 1 method)"
      ]
     },
     "execution_count": 192,
     "metadata": {},
     "output_type": "execute_result"
    }
   ],
   "source": [
    "function convert_to_image(x, y_size)\n",
    "    Gray.(permutedims(vcat(reshape.(chunk(x |> cpu, y_size), 28, :)...), (2, 1)))\n",
    "end"
   ]
  },
  {
   "cell_type": "code",
   "execution_count": 197,
   "id": "81a086de-d1a1-4a41-92a4-7d47e9513083",
   "metadata": {},
   "outputs": [
    {
     "data": {
      "text/plain": [
       "0"
      ]
     },
     "execution_count": 197,
     "metadata": {},
     "output_type": "execute_result"
    }
   ],
   "source": [
    "samples = sigmoid.(model(gpu(xtest[:,1:16])))\n",
    "image = convert_to_image(samples, 16)\n",
    "save(\"output/manifold.png\", image)"
   ]
  },
  {
   "cell_type": "code",
   "execution_count": null,
   "id": "8361babf-a1c0-415d-bae6-80c90c99cf9f",
   "metadata": {},
   "outputs": [],
   "source": []
  }
 ],
 "metadata": {
  "kernelspec": {
   "display_name": "Julia 1.6.3",
   "language": "julia",
   "name": "julia-1.6"
  },
  "language_info": {
   "file_extension": ".jl",
   "mimetype": "application/julia",
   "name": "julia",
   "version": "1.6.3"
  }
 },
 "nbformat": 4,
 "nbformat_minor": 5
}
