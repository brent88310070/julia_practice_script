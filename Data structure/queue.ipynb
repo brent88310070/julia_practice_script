{
 "cells": [
  {
   "cell_type": "code",
   "execution_count": 1,
   "id": "24635986-4477-4cb8-8730-b58c4dcb2d88",
   "metadata": {},
   "outputs": [],
   "source": [
    "struct Queue\n",
    "    q::Array\n",
    "    l::Int\n",
    "end"
   ]
  },
  {
   "cell_type": "code",
   "execution_count": 2,
   "id": "706a5998-501d-4db8-811a-bd163f8b05b2",
   "metadata": {},
   "outputs": [
    {
     "data": {
      "text/plain": [
       "Queue"
      ]
     },
     "execution_count": 2,
     "metadata": {},
     "output_type": "execute_result"
    }
   ],
   "source": [
    "function Queue()\n",
    "    return Queue([])\n",
    "end"
   ]
  },
  {
   "cell_type": "code",
   "execution_count": 3,
   "id": "11a16856-842b-44c0-941d-1ecfb8cd424f",
   "metadata": {},
   "outputs": [
    {
     "data": {
      "text/plain": [
       "push! (generic function with 1 method)"
      ]
     },
     "execution_count": 3,
     "metadata": {},
     "output_type": "execute_result"
    }
   ],
   "source": [
    "function push!(st::Queue, x)\n",
    "    if isfull(st)\n",
    "        return st.q\n",
    "    else\n",
    "        return Base.push!(st.q, x)\n",
    "    end\n",
    "end"
   ]
  },
  {
   "cell_type": "code",
   "execution_count": 4,
   "id": "af8942a6-cc39-423c-bfbb-acddc96ef757",
   "metadata": {},
   "outputs": [
    {
     "data": {
      "text/plain": [
       "pop! (generic function with 1 method)"
      ]
     },
     "execution_count": 4,
     "metadata": {},
     "output_type": "execute_result"
    }
   ],
   "source": [
    "function pop!(st::Queue)\n",
    "    if isempty_check(st)\n",
    "        return []\n",
    "    else\n",
    "        return popfirst!(st.q)\n",
    "    end\n",
    "end"
   ]
  },
  {
   "cell_type": "code",
   "execution_count": 5,
   "id": "73520725-1a1e-40fc-8738-323ba4db6cd3",
   "metadata": {},
   "outputs": [
    {
     "data": {
      "text/plain": [
       "isempty_check (generic function with 1 method)"
      ]
     },
     "execution_count": 5,
     "metadata": {},
     "output_type": "execute_result"
    }
   ],
   "source": [
    "function isempty_check(st::Queue)\n",
    "    return length(st.q) == 0\n",
    "end"
   ]
  },
  {
   "cell_type": "code",
   "execution_count": 6,
   "id": "14386d56-5503-4909-ba49-0751cd5b9ee6",
   "metadata": {},
   "outputs": [
    {
     "data": {
      "text/plain": [
       "isfull (generic function with 1 method)"
      ]
     },
     "execution_count": 6,
     "metadata": {},
     "output_type": "execute_result"
    }
   ],
   "source": [
    "function isfull(st::Queue)\n",
    "    return length(st.q) == st.l\n",
    "end"
   ]
  }
 ],
 "metadata": {
  "kernelspec": {
   "display_name": "Julia 1.6.3",
   "language": "julia",
   "name": "julia-1.6"
  },
  "language_info": {
   "file_extension": ".jl",
   "mimetype": "application/julia",
   "name": "julia",
   "version": "1.6.3"
  }
 },
 "nbformat": 4,
 "nbformat_minor": 5
}
