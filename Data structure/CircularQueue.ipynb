{
 "cells": [
  {
   "cell_type": "code",
   "execution_count": 1,
   "id": "e135ce79-9554-465c-86dd-f55e63329836",
   "metadata": {},
   "outputs": [],
   "source": [
    "mutable struct CircularQueue\n",
    "    q::Array\n",
    "    l::Int\n",
    "    tail::Int\n",
    "end"
   ]
  },
  {
   "cell_type": "code",
   "execution_count": 2,
   "id": "e979fcb7-5307-419e-b5f8-810241928f22",
   "metadata": {},
   "outputs": [
    {
     "data": {
      "text/plain": [
       "CircularQueue"
      ]
     },
     "execution_count": 2,
     "metadata": {},
     "output_type": "execute_result"
    }
   ],
   "source": [
    "function CircularQueue(l::Int)\n",
    "    q = Array{Int64,1}(undef,l)\n",
    "    return CircularQueue(q, l, 0)\n",
    "end"
   ]
  },
  {
   "cell_type": "code",
   "execution_count": 3,
   "id": "0f2856f1-7c64-4c5a-aa71-23876737ab54",
   "metadata": {},
   "outputs": [
    {
     "data": {
      "text/plain": [
       "push! (generic function with 1 method)"
      ]
     },
     "execution_count": 3,
     "metadata": {},
     "output_type": "execute_result"
    }
   ],
   "source": [
    "function push!(st::CircularQueue, x)\n",
    "    if length(x) > st.l\n",
    "        l = st.l\n",
    "        throw(DomainError(x, \"Input length must be less than or equal to $l\"))\n",
    "    end\n",
    "    \n",
    "    if isfull(st, x)\n",
    "        res = (st.tail + length(x)) % st.l\n",
    "        st.q[st.tail + 1 : st.l] = x[1 : st.l - st.tail]\n",
    "        st.q[1 : res] = x[st.l - st.tail + 1 : end]\n",
    "        st.tail = res        \n",
    "    else\n",
    "        st.q[st.tail + 1 : st.tail + length(x)] = x\n",
    "        st.tail += length(x)\n",
    "    end\n",
    "    return st.q\n",
    "\n",
    "end"
   ]
  },
  {
   "cell_type": "code",
   "execution_count": 4,
   "id": "8e20aa2c-a3b2-41da-b0ae-508b9886bf0f",
   "metadata": {},
   "outputs": [
    {
     "data": {
      "text/plain": [
       "isfull (generic function with 1 method)"
      ]
     },
     "execution_count": 4,
     "metadata": {},
     "output_type": "execute_result"
    }
   ],
   "source": [
    "function isfull(st::CircularQueue, x)\n",
    "    return (st.tail + length(x)) > st.l\n",
    "end"
   ]
  },
  {
   "cell_type": "code",
   "execution_count": 5,
   "id": "145ff174-c1e2-4986-88cd-6a3531ada758",
   "metadata": {},
   "outputs": [
    {
     "data": {
      "text/plain": [
       "CircularQueue([299865456, 299865488, 299865520, 299865552, 299865584], 5, 0)"
      ]
     },
     "execution_count": 5,
     "metadata": {},
     "output_type": "execute_result"
    }
   ],
   "source": [
    "q = CircularQueue(5)"
   ]
  },
  {
   "cell_type": "code",
   "execution_count": 6,
   "id": "62d53b73-6c73-4af5-b2bc-34eb0047f59d",
   "metadata": {},
   "outputs": [
    {
     "data": {
      "text/plain": [
       "5-element Vector{Int64}:\n",
       "         1\n",
       "         2\n",
       "         3\n",
       " 299865552\n",
       " 299865584"
      ]
     },
     "execution_count": 6,
     "metadata": {},
     "output_type": "execute_result"
    }
   ],
   "source": [
    "push!(q, [1, 2, 3])"
   ]
  },
  {
   "cell_type": "code",
   "execution_count": 7,
   "id": "4f779a5c-84cb-44b4-a8b2-f99dd5ceb172",
   "metadata": {},
   "outputs": [
    {
     "data": {
      "text/plain": [
       "5-element Vector{Int64}:\n",
       "         1\n",
       "         2\n",
       "         3\n",
       "         4\n",
       " 299865584"
      ]
     },
     "execution_count": 7,
     "metadata": {},
     "output_type": "execute_result"
    }
   ],
   "source": [
    "push!(q, [4])"
   ]
  },
  {
   "cell_type": "code",
   "execution_count": 8,
   "id": "eb8090a9-c7f3-4cde-b7e7-467d483e6822",
   "metadata": {},
   "outputs": [
    {
     "data": {
      "text/plain": [
       "5-element Vector{Int64}:\n",
       " 6\n",
       " 7\n",
       " 3\n",
       " 4\n",
       " 5"
      ]
     },
     "execution_count": 8,
     "metadata": {},
     "output_type": "execute_result"
    }
   ],
   "source": [
    "push!(q, [5, 6, 7])"
   ]
  },
  {
   "cell_type": "code",
   "execution_count": 9,
   "id": "759f845e-943e-49ba-adef-87239e85dbab",
   "metadata": {},
   "outputs": [
    {
     "data": {
      "text/plain": [
       "5-element Vector{Int64}:\n",
       " 11\n",
       " 12\n",
       "  8\n",
       "  9\n",
       " 10"
      ]
     },
     "execution_count": 9,
     "metadata": {},
     "output_type": "execute_result"
    }
   ],
   "source": [
    "push!(q, [8, 9, 10, 11, 12])"
   ]
  },
  {
   "cell_type": "code",
   "execution_count": 10,
   "id": "c247b3fe-84be-4e03-8998-4212eb1f3198",
   "metadata": {},
   "outputs": [
    {
     "ename": "LoadError",
     "evalue": "DomainError with [13, 14, 15, 16, 17, 18]:\nInput length must be less than or equal to 5",
     "output_type": "error",
     "traceback": [
      "DomainError with [13, 14, 15, 16, 17, 18]:\nInput length must be less than or equal to 5",
      "",
      "Stacktrace:",
      " [1] push!(st::CircularQueue, x::Vector{Int64})",
      "   @ Main .\\In[3]:4",
      " [2] top-level scope",
      "   @ In[10]:1",
      " [3] eval",
      "   @ .\\boot.jl:360 [inlined]",
      " [4] include_string(mapexpr::typeof(REPL.softscope), mod::Module, code::String, filename::String)",
      "   @ Base .\\loading.jl:1116"
     ]
    }
   ],
   "source": [
    "push!(q, [13, 14, 15, 16, 17, 18])"
   ]
  },
  {
   "cell_type": "code",
   "execution_count": null,
   "id": "a7528e4c-e818-405e-b0f5-f54e2d33f8c1",
   "metadata": {},
   "outputs": [],
   "source": []
  }
 ],
 "metadata": {
  "kernelspec": {
   "display_name": "Julia 1.6.3",
   "language": "julia",
   "name": "julia-1.6"
  },
  "language_info": {
   "file_extension": ".jl",
   "mimetype": "application/julia",
   "name": "julia",
   "version": "1.6.3"
  }
 },
 "nbformat": 4,
 "nbformat_minor": 5
}
